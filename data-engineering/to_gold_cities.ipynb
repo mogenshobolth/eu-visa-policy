{
 "cells": [
  {
   "cell_type": "code",
   "execution_count": 2,
   "metadata": {},
   "outputs": [],
   "source": [
    "import pandas as pd\n",
    "import numpy as np\n",
    "import glob\n",
    "\n",
    "df = []\n",
    "for f in glob.glob('../data/silver/cities*.csv'):\n",
    "    df.append(pd.read_csv(f))\n",
    "df2 = pd.concat(df)\n",
    "df2 = df2[[\"origin_country\",\"origin_consulate\",\"country\",\"city\",\"latitude\",\"longitude\"]]\n",
    "df2 = df2.drop_duplicates()\n",
    "df2.to_csv('../data/gold/cities.csv')"
   ]
  }
 ],
 "metadata": {
  "interpreter": {
   "hash": "70e0845b5129806f0545e31b2feb3611977305748f31df500deeb675d9ced548"
  },
  "kernelspec": {
   "display_name": "Python 3.7.12 64-bit ('myenv': conda)",
   "language": "python",
   "name": "python3"
  },
  "language_info": {
   "codemirror_mode": {
    "name": "ipython",
    "version": 3
   },
   "file_extension": ".py",
   "mimetype": "text/x-python",
   "name": "python",
   "nbconvert_exporter": "python",
   "pygments_lexer": "ipython3",
   "version": "3.7.12"
  },
  "orig_nbformat": 4
 },
 "nbformat": 4,
 "nbformat_minor": 2
}
