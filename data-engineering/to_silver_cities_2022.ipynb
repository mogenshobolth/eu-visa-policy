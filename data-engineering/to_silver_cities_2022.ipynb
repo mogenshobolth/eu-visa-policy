{
 "cells": [
  {
   "cell_type": "markdown",
   "metadata": {},
   "source": [
    "Create consolidated cities dataset from Schengen visa statistics input file"
   ]
  },
  {
   "cell_type": "code",
   "execution_count": 1,
   "metadata": {},
   "outputs": [
    {
     "ename": "ModuleNotFoundError",
     "evalue": "No module named 'geopy'",
     "output_type": "error",
     "traceback": [
      "\u001b[0;31m---------------------------------------------------------------------------\u001b[0m",
      "\u001b[0;31mModuleNotFoundError\u001b[0m                       Traceback (most recent call last)",
      "\u001b[1;32m/Users/hobolthwagner/Source/schengen-visa/data-engineering/to_silver_cities_2022.ipynb Cell 2\u001b[0m in \u001b[0;36m<cell line: 1>\u001b[0;34m()\u001b[0m\n\u001b[0;32m----> <a href='vscode-notebook-cell:/Users/hobolthwagner/Source/schengen-visa/data-engineering/to_silver_cities_2022.ipynb#W1sZmlsZQ%3D%3D?line=0'>1</a>\u001b[0m \u001b[39mimport\u001b[39;00m \u001b[39mschengentools\u001b[39;00m\u001b[39m.\u001b[39;00m\u001b[39mgeomapping\u001b[39;00m \u001b[39mas\u001b[39;00m \u001b[39mgm\u001b[39;00m\n\u001b[1;32m      <a href='vscode-notebook-cell:/Users/hobolthwagner/Source/schengen-visa/data-engineering/to_silver_cities_2022.ipynb#W1sZmlsZQ%3D%3D?line=1'>2</a>\u001b[0m gc \u001b[39m=\u001b[39m gm\u001b[39m.\u001b[39mGeocoder()\n\u001b[1;32m      <a href='vscode-notebook-cell:/Users/hobolthwagner/Source/schengen-visa/data-engineering/to_silver_cities_2022.ipynb#W1sZmlsZQ%3D%3D?line=2'>3</a>\u001b[0m gc\u001b[39m.\u001b[39mread_schengen_csv(\u001b[39m'\u001b[39m\u001b[39m../data/silver/schengen-visa-2022.csv\u001b[39m\u001b[39m'\u001b[39m)\n",
      "File \u001b[0;32m~/Source/schengen-visa/data-engineering/schengentools/geomapping.py:3\u001b[0m, in \u001b[0;36m<module>\u001b[0;34m\u001b[0m\n\u001b[1;32m      1\u001b[0m \u001b[39mimport\u001b[39;00m \u001b[39mnumpy\u001b[39;00m \u001b[39mas\u001b[39;00m \u001b[39mnp\u001b[39;00m\n\u001b[1;32m      2\u001b[0m \u001b[39mimport\u001b[39;00m \u001b[39mpandas\u001b[39;00m \u001b[39mas\u001b[39;00m \u001b[39mpd\u001b[39;00m\n\u001b[0;32m----> 3\u001b[0m \u001b[39mfrom\u001b[39;00m \u001b[39mgeopy\u001b[39;00m\u001b[39m.\u001b[39;00m\u001b[39mgeocoders\u001b[39;00m \u001b[39mimport\u001b[39;00m Nominatim\n\u001b[1;32m      5\u001b[0m \u001b[39mclass\u001b[39;00m \u001b[39mGeocoder\u001b[39;00m:\n\u001b[1;32m      7\u001b[0m     \u001b[39mdef\u001b[39;00m \u001b[39m__init__\u001b[39m(\u001b[39mself\u001b[39m):\n",
      "\u001b[0;31mModuleNotFoundError\u001b[0m: No module named 'geopy'"
     ]
    }
   ],
   "source": [
    "import schengentools.geomapping as gm\n",
    "gc = gm.Geocoder()\n",
    "gc.read_schengen_csv('../data/silver/schengen-visa-2022.csv')\n",
    "gc.extract_locations()\n",
    "gc.rename_cities()\n",
    "gc.rename_countries()\n",
    "gc.geocode_dataframe()\n",
    "gc.save('../data/silver/cities-2022.csv')"
   ]
  },
  {
   "cell_type": "markdown",
   "metadata": {},
   "source": [
    "Show list of locations which could not be geocoded "
   ]
  },
  {
   "cell_type": "code",
   "execution_count": null,
   "metadata": {},
   "outputs": [],
   "source": [
    "df = gc.df\n",
    "df[df[\"latitude\"].isna()]"
   ]
  },
  {
   "cell_type": "markdown",
   "metadata": {},
   "source": [
    "Show descriptive statistics"
   ]
  },
  {
   "cell_type": "code",
   "execution_count": null,
   "metadata": {},
   "outputs": [],
   "source": [
    "df.count()"
   ]
  },
  {
   "cell_type": "code",
   "execution_count": null,
   "metadata": {},
   "outputs": [],
   "source": [
    "df.head(5)"
   ]
  }
 ],
 "metadata": {
  "kernelspec": {
   "display_name": "Python 3.9.12 ('ft')",
   "language": "python",
   "name": "python3"
  },
  "language_info": {
   "codemirror_mode": {
    "name": "ipython",
    "version": 3
   },
   "file_extension": ".py",
   "mimetype": "text/x-python",
   "name": "python",
   "nbconvert_exporter": "python",
   "pygments_lexer": "ipython3",
   "version": "3.9.12"
  },
  "orig_nbformat": 4,
  "vscode": {
   "interpreter": {
    "hash": "30e5b82f87c12d83fdec179556db59b83aa74cbf7a91fead6d09aa53bba7065f"
   }
  }
 },
 "nbformat": 4,
 "nbformat_minor": 2
}
