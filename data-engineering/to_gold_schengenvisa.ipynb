{
 "cells": [
  {
   "cell_type": "code",
   "execution_count": 1,
   "metadata": {},
   "outputs": [],
   "source": [
    "import pandas as pd\n",
    "import numpy as np\n",
    "import glob\n",
    "\n",
    "df = []\n",
    "for f in glob.glob('../data/silver/schengen-visa-*.csv'):\n",
    "    df.append(pd.read_csv(f))\n",
    "df2 = pd.concat(df)\n",
    "df2 = df2[[\"schengen_state\",\"origin_country\",\"origin_consulate\",\"visas_applied\",\"visas_issued\",\"visas_not_issued\",\"visa_refusal_rate\",\"year\"]]\n",
    "df2.reset_index()\n",
    "df2.to_csv('../data/gold/schengen-visa.csv')"
   ]
  }
 ],
 "metadata": {
  "kernelspec": {
   "display_name": "Python 3.10.5 ('myenv')",
   "language": "python",
   "name": "python3"
  },
  "language_info": {
   "codemirror_mode": {
    "name": "ipython",
    "version": 3
   },
   "file_extension": ".py",
   "mimetype": "text/x-python",
   "name": "python",
   "nbconvert_exporter": "python",
   "pygments_lexer": "ipython3",
   "version": "3.10.5"
  },
  "orig_nbformat": 4,
  "vscode": {
   "interpreter": {
    "hash": "8498851fdb8f20aac0be0c513133504d41018d140b7992e21b4a91b7f62ead50"
   }
  }
 },
 "nbformat": 4,
 "nbformat_minor": 2
}
