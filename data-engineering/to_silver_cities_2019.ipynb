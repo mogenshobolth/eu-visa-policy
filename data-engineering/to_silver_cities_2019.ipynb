{
 "cells": [
  {
   "cell_type": "code",
   "execution_count": 1,
   "metadata": {},
   "outputs": [
    {
     "data": {
      "text/html": [
       "<div>\n",
       "<style scoped>\n",
       "    .dataframe tbody tr th:only-of-type {\n",
       "        vertical-align: middle;\n",
       "    }\n",
       "\n",
       "    .dataframe tbody tr th {\n",
       "        vertical-align: top;\n",
       "    }\n",
       "\n",
       "    .dataframe thead th {\n",
       "        text-align: right;\n",
       "    }\n",
       "</style>\n",
       "<table border=\"1\" class=\"dataframe\">\n",
       "  <thead>\n",
       "    <tr style=\"text-align: right;\">\n",
       "      <th></th>\n",
       "      <th>origin_country</th>\n",
       "      <th>origin_consulate</th>\n",
       "      <th>country</th>\n",
       "      <th>city</th>\n",
       "    </tr>\n",
       "  </thead>\n",
       "  <tbody>\n",
       "    <tr>\n",
       "      <th>0</th>\n",
       "      <td>ALBANIA</td>\n",
       "      <td>TIRANA</td>\n",
       "      <td>ALBANIA</td>\n",
       "      <td>TIRANA</td>\n",
       "    </tr>\n",
       "    <tr>\n",
       "      <th>1</th>\n",
       "      <td>ALGERIA</td>\n",
       "      <td>ALGIERS</td>\n",
       "      <td>ALGERIA</td>\n",
       "      <td>ALGIERS</td>\n",
       "    </tr>\n",
       "    <tr>\n",
       "      <th>2</th>\n",
       "      <td>ARGENTINA</td>\n",
       "      <td>BUENOS AIRES</td>\n",
       "      <td>ARGENTINA</td>\n",
       "      <td>BUENOS AIRES</td>\n",
       "    </tr>\n",
       "    <tr>\n",
       "      <th>3</th>\n",
       "      <td>AUSTRALIA</td>\n",
       "      <td>CANBERRA</td>\n",
       "      <td>AUSTRALIA</td>\n",
       "      <td>CANBERRA</td>\n",
       "    </tr>\n",
       "    <tr>\n",
       "      <th>4</th>\n",
       "      <td>AZERBAIJAN</td>\n",
       "      <td>BAKU</td>\n",
       "      <td>AZERBAIJAN</td>\n",
       "      <td>BAKU</td>\n",
       "    </tr>\n",
       "    <tr>\n",
       "      <th>...</th>\n",
       "      <td>...</td>\n",
       "      <td>...</td>\n",
       "      <td>...</td>\n",
       "      <td>...</td>\n",
       "    </tr>\n",
       "    <tr>\n",
       "      <th>1644</th>\n",
       "      <td>MOROCCO</td>\n",
       "      <td>TETOUAN</td>\n",
       "      <td>MOROCCO</td>\n",
       "      <td>TETOUAN</td>\n",
       "    </tr>\n",
       "    <tr>\n",
       "      <th>1678</th>\n",
       "      <td>SWITZERLAND</td>\n",
       "      <td>ZURICH</td>\n",
       "      <td>SWITZERLAND</td>\n",
       "      <td>ZURICH</td>\n",
       "    </tr>\n",
       "    <tr>\n",
       "      <th>1697</th>\n",
       "      <td>USA</td>\n",
       "      <td>SAN JUAN, PR</td>\n",
       "      <td>USA</td>\n",
       "      <td>SAN JUAN, PR</td>\n",
       "    </tr>\n",
       "    <tr>\n",
       "      <th>1725</th>\n",
       "      <td>LIBERIA</td>\n",
       "      <td>MONROVIA</td>\n",
       "      <td>LIBERIA</td>\n",
       "      <td>MONROVIA</td>\n",
       "    </tr>\n",
       "    <tr>\n",
       "      <th>1768</th>\n",
       "      <td>COTE D'IVOIRE</td>\n",
       "      <td>ABIDJAN</td>\n",
       "      <td>COTE D'IVOIRE</td>\n",
       "      <td>ABIDJAN</td>\n",
       "    </tr>\n",
       "  </tbody>\n",
       "</table>\n",
       "<p>298 rows × 4 columns</p>\n",
       "</div>"
      ],
      "text/plain": [
       "     origin_country origin_consulate        country          city\n",
       "0           ALBANIA           TIRANA        ALBANIA        TIRANA\n",
       "1           ALGERIA          ALGIERS        ALGERIA       ALGIERS\n",
       "2         ARGENTINA     BUENOS AIRES      ARGENTINA  BUENOS AIRES\n",
       "3         AUSTRALIA         CANBERRA      AUSTRALIA      CANBERRA\n",
       "4        AZERBAIJAN             BAKU     AZERBAIJAN          BAKU\n",
       "...             ...              ...            ...           ...\n",
       "1644        MOROCCO          TETOUAN        MOROCCO       TETOUAN\n",
       "1678    SWITZERLAND           ZURICH    SWITZERLAND        ZURICH\n",
       "1697            USA     SAN JUAN, PR            USA  SAN JUAN, PR\n",
       "1725        LIBERIA         MONROVIA        LIBERIA      MONROVIA\n",
       "1768  COTE D'IVOIRE          ABIDJAN  COTE D'IVOIRE       ABIDJAN\n",
       "\n",
       "[298 rows x 4 columns]"
      ]
     },
     "execution_count": 1,
     "metadata": {},
     "output_type": "execute_result"
    }
   ],
   "source": [
    "import pandas as pd\n",
    "import numpy as np\n",
    "df = pd.read_csv('../data/silver/schengen-visa-2019.csv')\n",
    "df = df[[\"origin_country\",\"origin_consulate\"]]\n",
    "df[\"country\"] = df[\"origin_country\"]\n",
    "df[\"city\"] = df[\"origin_consulate\"]\n",
    "df = df.drop_duplicates()\n",
    "df"
   ]
  },
  {
   "cell_type": "code",
   "execution_count": 2,
   "metadata": {},
   "outputs": [],
   "source": [
    "def correct_countries(country):\n",
    "    return {\n",
    "        'HONG KONG S.A.R.': 'HONG KONG',\n",
    "        'CONGO (DEMOCRATIC REPUBLIC)': 'DEMOCRATIC REPUBLIC OF THE CONGO',\n",
    "        'CONGO (BRAZZAVILLE)': 'REPUBLIC OF THE CONGO'\n",
    "    }.get(country, country)\n",
    "df['country'] = df.apply(lambda x: correct_countries(x['country']), axis=1)"
   ]
  },
  {
   "cell_type": "code",
   "execution_count": 3,
   "metadata": {},
   "outputs": [],
   "source": [
    "def correct_cities(city):\n",
    "    return {\n",
    "        'YAONDE': 'YAOUNDE',\n",
    "        'VITSYEBSK': 'VITEBSK'\n",
    "    }.get(city, city)\n",
    "df['city'] = df.apply(lambda x: correct_cities(x['city']), axis=1)"
   ]
  },
  {
   "cell_type": "code",
   "execution_count": 4,
   "metadata": {},
   "outputs": [
    {
     "name": "stdout",
     "output_type": "stream",
     "text": [
      "100.0% of cities were geocoded!\n"
     ]
    }
   ],
   "source": [
    "from geopy.geocoders import Nominatim\n",
    "geolocator = Nominatim(user_agent=\"mhobolth-geo\")\n",
    "\n",
    "def my_geocoder(country, city):\n",
    "    try:\n",
    "        point = geolocator.geocode(city + ', ' + country).point\n",
    "        return pd.Series({'latitude': point.latitude, 'longitude': point.longitude})\n",
    "    except:\n",
    "        return None\n",
    "\n",
    "df[['latitude', 'longitude']] = df.apply(lambda x: my_geocoder(x['country'], x['city']), axis=1)\n",
    "\n",
    "print(\"{}% of cities were geocoded!\".format(\n",
    "    (1 - sum(np.isnan(df[\"latitude\"])) / len(df)) * 100))\n"
   ]
  },
  {
   "cell_type": "code",
   "execution_count": 5,
   "metadata": {},
   "outputs": [
    {
     "data": {
      "text/html": [
       "<div>\n",
       "<style scoped>\n",
       "    .dataframe tbody tr th:only-of-type {\n",
       "        vertical-align: middle;\n",
       "    }\n",
       "\n",
       "    .dataframe tbody tr th {\n",
       "        vertical-align: top;\n",
       "    }\n",
       "\n",
       "    .dataframe thead th {\n",
       "        text-align: right;\n",
       "    }\n",
       "</style>\n",
       "<table border=\"1\" class=\"dataframe\">\n",
       "  <thead>\n",
       "    <tr style=\"text-align: right;\">\n",
       "      <th></th>\n",
       "      <th>origin_country</th>\n",
       "      <th>origin_consulate</th>\n",
       "      <th>country</th>\n",
       "      <th>city</th>\n",
       "      <th>latitude</th>\n",
       "      <th>longitude</th>\n",
       "    </tr>\n",
       "  </thead>\n",
       "  <tbody>\n",
       "  </tbody>\n",
       "</table>\n",
       "</div>"
      ],
      "text/plain": [
       "Empty DataFrame\n",
       "Columns: [origin_country, origin_consulate, country, city, latitude, longitude]\n",
       "Index: []"
      ]
     },
     "execution_count": 5,
     "metadata": {},
     "output_type": "execute_result"
    }
   ],
   "source": [
    "df[df[\"latitude\"].isna()]"
   ]
  },
  {
   "cell_type": "code",
   "execution_count": 6,
   "metadata": {},
   "outputs": [],
   "source": [
    "df.to_csv('../data/silver/cities-2019.csv')"
   ]
  }
 ],
 "metadata": {
  "interpreter": {
   "hash": "70e0845b5129806f0545e31b2feb3611977305748f31df500deeb675d9ced548"
  },
  "kernelspec": {
   "display_name": "Python 3.7.11 64-bit ('myenv': conda)",
   "language": "python",
   "name": "python3"
  },
  "language_info": {
   "codemirror_mode": {
    "name": "ipython",
    "version": 3
   },
   "file_extension": ".py",
   "mimetype": "text/x-python",
   "name": "python",
   "nbconvert_exporter": "python",
   "pygments_lexer": "ipython3",
   "version": "3.7.12"
  },
  "orig_nbformat": 4
 },
 "nbformat": 4,
 "nbformat_minor": 2
}
