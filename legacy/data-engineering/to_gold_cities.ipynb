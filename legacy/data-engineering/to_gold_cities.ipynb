{
 "cells": [
  {
   "cell_type": "code",
   "execution_count": 1,
   "metadata": {},
   "outputs": [],
   "source": [
    "import pandas as pd\n",
    "import numpy as np\n",
    "import glob\n",
    "\n",
    "df = []\n",
    "for f in glob.glob('../data/silver/cities*.csv'):\n",
    "    df.append(pd.read_csv(f))\n",
    "df2 = pd.concat(df)\n",
    "df2 = df2[[\"origin_country\",\"origin_consulate\",\"country\",\"city\",\"latitude\",\"longitude\"]]\n",
    "df2 = df2.groupby([\"origin_country\",\"origin_consulate\",\"country\",\"city\"])[[\"latitude\", \"longitude\"]].apply(lambda x: x.iloc[0]).reset_index()\n",
    "df2.to_csv('../data/gold/cities.csv')"
   ]
  }
 ],
 "metadata": {
  "kernelspec": {
   "display_name": "Python 3.10.4 ('schengen-project')",
   "language": "python",
   "name": "python3"
  },
  "language_info": {
   "codemirror_mode": {
    "name": "ipython",
    "version": 3
   },
   "file_extension": ".py",
   "mimetype": "text/x-python",
   "name": "python",
   "nbconvert_exporter": "python",
   "pygments_lexer": "ipython3",
   "version": "3.10.4"
  },
  "orig_nbformat": 4,
  "vscode": {
   "interpreter": {
    "hash": "c8f72dd39baacdd6885cf5f3225636817fcc3c3d88157812d11baa875d1cdecb"
   }
  }
 },
 "nbformat": 4,
 "nbformat_minor": 2
}
