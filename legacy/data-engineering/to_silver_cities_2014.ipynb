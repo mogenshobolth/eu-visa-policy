{
 "cells": [
  {
   "cell_type": "markdown",
   "metadata": {},
   "source": [
    "Create consolidated cities dataset from Schengen visa statistics input file"
   ]
  },
  {
   "cell_type": "code",
   "execution_count": 1,
   "metadata": {},
   "outputs": [
    {
     "name": "stdout",
     "output_type": "stream",
     "text": [
      "Input file loaded into dataframe\n",
      "Extracted countries and cities from input dataset\n",
      "Renamed relevant city names to geolocator compatiable names\n",
      "Renamed relevant country names to geolocator compatiable names\n",
      "100.0% of cities were geocoded!\n",
      "Output file saved\n"
     ]
    }
   ],
   "source": [
    "import schengentools.geomapping as gm\n",
    "gc = gm.Geocoder()\n",
    "gc.read_schengen_csv('../data/silver/schengen-visa-2014.csv')\n",
    "gc.extract_locations()\n",
    "gc.rename_cities()\n",
    "gc.rename_countries()\n",
    "gc.geocode_dataframe()\n",
    "gc.save('../data/silver/cities-2014.csv')"
   ]
  },
  {
   "cell_type": "markdown",
   "metadata": {},
   "source": [
    "Show list of locations which could not be geocoded "
   ]
  },
  {
   "cell_type": "code",
   "execution_count": 2,
   "metadata": {},
   "outputs": [
    {
     "data": {
      "text/html": [
       "<div>\n",
       "<style scoped>\n",
       "    .dataframe tbody tr th:only-of-type {\n",
       "        vertical-align: middle;\n",
       "    }\n",
       "\n",
       "    .dataframe tbody tr th {\n",
       "        vertical-align: top;\n",
       "    }\n",
       "\n",
       "    .dataframe thead th {\n",
       "        text-align: right;\n",
       "    }\n",
       "</style>\n",
       "<table border=\"1\" class=\"dataframe\">\n",
       "  <thead>\n",
       "    <tr style=\"text-align: right;\">\n",
       "      <th></th>\n",
       "      <th>origin_country</th>\n",
       "      <th>origin_consulate</th>\n",
       "      <th>country</th>\n",
       "      <th>city</th>\n",
       "      <th>latitude</th>\n",
       "      <th>longitude</th>\n",
       "    </tr>\n",
       "  </thead>\n",
       "  <tbody>\n",
       "  </tbody>\n",
       "</table>\n",
       "</div>"
      ],
      "text/plain": [
       "Empty DataFrame\n",
       "Columns: [origin_country, origin_consulate, country, city, latitude, longitude]\n",
       "Index: []"
      ]
     },
     "execution_count": 2,
     "metadata": {},
     "output_type": "execute_result"
    }
   ],
   "source": [
    "df = gc.df\n",
    "df[df[\"latitude\"].isna()]"
   ]
  },
  {
   "cell_type": "markdown",
   "metadata": {},
   "source": [
    "Show descriptive statistics"
   ]
  },
  {
   "cell_type": "code",
   "execution_count": 3,
   "metadata": {},
   "outputs": [
    {
     "data": {
      "text/plain": [
       "origin_country      311\n",
       "origin_consulate    311\n",
       "country             311\n",
       "city                311\n",
       "latitude            311\n",
       "longitude           311\n",
       "dtype: int64"
      ]
     },
     "execution_count": 3,
     "metadata": {},
     "output_type": "execute_result"
    }
   ],
   "source": [
    "df.count()"
   ]
  },
  {
   "cell_type": "code",
   "execution_count": 4,
   "metadata": {},
   "outputs": [
    {
     "data": {
      "text/html": [
       "<div>\n",
       "<style scoped>\n",
       "    .dataframe tbody tr th:only-of-type {\n",
       "        vertical-align: middle;\n",
       "    }\n",
       "\n",
       "    .dataframe tbody tr th {\n",
       "        vertical-align: top;\n",
       "    }\n",
       "\n",
       "    .dataframe thead th {\n",
       "        text-align: right;\n",
       "    }\n",
       "</style>\n",
       "<table border=\"1\" class=\"dataframe\">\n",
       "  <thead>\n",
       "    <tr style=\"text-align: right;\">\n",
       "      <th></th>\n",
       "      <th>origin_country</th>\n",
       "      <th>origin_consulate</th>\n",
       "      <th>country</th>\n",
       "      <th>city</th>\n",
       "      <th>latitude</th>\n",
       "      <th>longitude</th>\n",
       "    </tr>\n",
       "  </thead>\n",
       "  <tbody>\n",
       "    <tr>\n",
       "      <th>0</th>\n",
       "      <td>RUSSIAN FEDERATION</td>\n",
       "      <td>ST. PETERSBURG</td>\n",
       "      <td>RUSSIAN FEDERATION</td>\n",
       "      <td>ST. PETERSBURG</td>\n",
       "      <td>59.938732</td>\n",
       "      <td>30.316229</td>\n",
       "    </tr>\n",
       "    <tr>\n",
       "      <th>1</th>\n",
       "      <td>RUSSIAN FEDERATION</td>\n",
       "      <td>MOSCOW</td>\n",
       "      <td>RUSSIAN FEDERATION</td>\n",
       "      <td>MOSCOW</td>\n",
       "      <td>55.750446</td>\n",
       "      <td>37.617494</td>\n",
       "    </tr>\n",
       "    <tr>\n",
       "      <th>7</th>\n",
       "      <td>ALGERIA</td>\n",
       "      <td>ALGIERS</td>\n",
       "      <td>ALGERIA</td>\n",
       "      <td>ALGIERS</td>\n",
       "      <td>36.775361</td>\n",
       "      <td>3.060188</td>\n",
       "    </tr>\n",
       "    <tr>\n",
       "      <th>8</th>\n",
       "      <td>UKRAINE</td>\n",
       "      <td>LVOV</td>\n",
       "      <td>UKRAINE</td>\n",
       "      <td>LVOV</td>\n",
       "      <td>49.841952</td>\n",
       "      <td>24.031592</td>\n",
       "    </tr>\n",
       "    <tr>\n",
       "      <th>9</th>\n",
       "      <td>CHINA</td>\n",
       "      <td>BEIJING</td>\n",
       "      <td>CHINA</td>\n",
       "      <td>BEIJING</td>\n",
       "      <td>39.906217</td>\n",
       "      <td>116.391276</td>\n",
       "    </tr>\n",
       "  </tbody>\n",
       "</table>\n",
       "</div>"
      ],
      "text/plain": [
       "       origin_country origin_consulate             country            city  \\\n",
       "0  RUSSIAN FEDERATION   ST. PETERSBURG  RUSSIAN FEDERATION  ST. PETERSBURG   \n",
       "1  RUSSIAN FEDERATION           MOSCOW  RUSSIAN FEDERATION          MOSCOW   \n",
       "7             ALGERIA          ALGIERS             ALGERIA         ALGIERS   \n",
       "8             UKRAINE             LVOV             UKRAINE            LVOV   \n",
       "9               CHINA          BEIJING               CHINA         BEIJING   \n",
       "\n",
       "    latitude   longitude  \n",
       "0  59.938732   30.316229  \n",
       "1  55.750446   37.617494  \n",
       "7  36.775361    3.060188  \n",
       "8  49.841952   24.031592  \n",
       "9  39.906217  116.391276  "
      ]
     },
     "execution_count": 4,
     "metadata": {},
     "output_type": "execute_result"
    }
   ],
   "source": [
    "df.head(5)"
   ]
  }
 ],
 "metadata": {
  "interpreter": {
   "hash": "70e0845b5129806f0545e31b2feb3611977305748f31df500deeb675d9ced548"
  },
  "kernelspec": {
   "display_name": "Python 3.7.11 64-bit ('myenv': conda)",
   "language": "python",
   "name": "python3"
  },
  "language_info": {
   "codemirror_mode": {
    "name": "ipython",
    "version": 3
   },
   "file_extension": ".py",
   "mimetype": "text/x-python",
   "name": "python",
   "nbconvert_exporter": "python",
   "pygments_lexer": "ipython3",
   "version": "3.7.12"
  },
  "orig_nbformat": 4
 },
 "nbformat": 4,
 "nbformat_minor": 2
}
