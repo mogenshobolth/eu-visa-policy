{
 "cells": [
  {
   "cell_type": "markdown",
   "metadata": {},
   "source": [
    "Create consolidated cities dataset from Schengen visa statistics input file"
   ]
  },
  {
   "cell_type": "code",
   "execution_count": 1,
   "metadata": {},
   "outputs": [
    {
     "name": "stdout",
     "output_type": "stream",
     "text": [
      "Input file loaded into dataframe\n",
      "Extracted countries and cities from input dataset\n",
      "Renamed relevant city names to geolocator compatiable names\n",
      "Renamed relevant country names to geolocator compatiable names\n",
      "100.0% of cities were geocoded!\n",
      "Output file saved\n"
     ]
    }
   ],
   "source": [
    "import schengentools.geomapping as gm\n",
    "gc = gm.Geocoder()\n",
    "gc.read_schengen_csv('../data/silver/schengen-visa-2022.csv')\n",
    "gc.extract_locations()\n",
    "gc.rename_cities()\n",
    "gc.rename_countries()\n",
    "gc.geocode_dataframe()\n",
    "gc.save('../data/silver/cities-2022.csv')"
   ]
  },
  {
   "cell_type": "markdown",
   "metadata": {},
   "source": [
    "Show list of locations which could not be geocoded "
   ]
  },
  {
   "cell_type": "code",
   "execution_count": 2,
   "metadata": {},
   "outputs": [
    {
     "data": {
      "text/html": [
       "<div>\n",
       "<style scoped>\n",
       "    .dataframe tbody tr th:only-of-type {\n",
       "        vertical-align: middle;\n",
       "    }\n",
       "\n",
       "    .dataframe tbody tr th {\n",
       "        vertical-align: top;\n",
       "    }\n",
       "\n",
       "    .dataframe thead th {\n",
       "        text-align: right;\n",
       "    }\n",
       "</style>\n",
       "<table border=\"1\" class=\"dataframe\">\n",
       "  <thead>\n",
       "    <tr style=\"text-align: right;\">\n",
       "      <th></th>\n",
       "      <th>origin_country</th>\n",
       "      <th>origin_consulate</th>\n",
       "      <th>country</th>\n",
       "      <th>city</th>\n",
       "      <th>latitude</th>\n",
       "      <th>longitude</th>\n",
       "    </tr>\n",
       "  </thead>\n",
       "  <tbody>\n",
       "  </tbody>\n",
       "</table>\n",
       "</div>"
      ],
      "text/plain": [
       "Empty DataFrame\n",
       "Columns: [origin_country, origin_consulate, country, city, latitude, longitude]\n",
       "Index: []"
      ]
     },
     "execution_count": 2,
     "metadata": {},
     "output_type": "execute_result"
    }
   ],
   "source": [
    "df = gc.df\n",
    "df[df[\"latitude\"].isna()]"
   ]
  },
  {
   "cell_type": "markdown",
   "metadata": {},
   "source": [
    "Show descriptive statistics"
   ]
  },
  {
   "cell_type": "code",
   "execution_count": 3,
   "metadata": {},
   "outputs": [
    {
     "data": {
      "text/plain": [
       "origin_country      291\n",
       "origin_consulate    291\n",
       "country             291\n",
       "city                291\n",
       "latitude            291\n",
       "longitude           291\n",
       "dtype: int64"
      ]
     },
     "execution_count": 3,
     "metadata": {},
     "output_type": "execute_result"
    }
   ],
   "source": [
    "df.count()"
   ]
  },
  {
   "cell_type": "code",
   "execution_count": 4,
   "metadata": {},
   "outputs": [
    {
     "data": {
      "text/html": [
       "<div>\n",
       "<style scoped>\n",
       "    .dataframe tbody tr th:only-of-type {\n",
       "        vertical-align: middle;\n",
       "    }\n",
       "\n",
       "    .dataframe tbody tr th {\n",
       "        vertical-align: top;\n",
       "    }\n",
       "\n",
       "    .dataframe thead th {\n",
       "        text-align: right;\n",
       "    }\n",
       "</style>\n",
       "<table border=\"1\" class=\"dataframe\">\n",
       "  <thead>\n",
       "    <tr style=\"text-align: right;\">\n",
       "      <th></th>\n",
       "      <th>origin_country</th>\n",
       "      <th>origin_consulate</th>\n",
       "      <th>country</th>\n",
       "      <th>city</th>\n",
       "      <th>latitude</th>\n",
       "      <th>longitude</th>\n",
       "    </tr>\n",
       "  </thead>\n",
       "  <tbody>\n",
       "    <tr>\n",
       "      <th>0</th>\n",
       "      <td>ALBANIA</td>\n",
       "      <td>TIRANA</td>\n",
       "      <td>ALBANIA</td>\n",
       "      <td>TIRANA</td>\n",
       "      <td>41.330489</td>\n",
       "      <td>19.825569</td>\n",
       "    </tr>\n",
       "    <tr>\n",
       "      <th>1</th>\n",
       "      <td>ALGERIA</td>\n",
       "      <td>ALGIERS</td>\n",
       "      <td>ALGERIA</td>\n",
       "      <td>ALGIERS</td>\n",
       "      <td>36.775361</td>\n",
       "      <td>3.060188</td>\n",
       "    </tr>\n",
       "    <tr>\n",
       "      <th>2</th>\n",
       "      <td>ARGENTINA</td>\n",
       "      <td>BUENOS AIRES</td>\n",
       "      <td>ARGENTINA</td>\n",
       "      <td>BUENOS AIRES</td>\n",
       "      <td>-34.607568</td>\n",
       "      <td>-58.437089</td>\n",
       "    </tr>\n",
       "    <tr>\n",
       "      <th>3</th>\n",
       "      <td>AUSTRALIA</td>\n",
       "      <td>CANBERRA</td>\n",
       "      <td>AUSTRALIA</td>\n",
       "      <td>CANBERRA</td>\n",
       "      <td>-35.297591</td>\n",
       "      <td>149.101268</td>\n",
       "    </tr>\n",
       "    <tr>\n",
       "      <th>4</th>\n",
       "      <td>AZERBAIJAN</td>\n",
       "      <td>BAKU</td>\n",
       "      <td>AZERBAIJAN</td>\n",
       "      <td>BAKU</td>\n",
       "      <td>40.375588</td>\n",
       "      <td>49.832801</td>\n",
       "    </tr>\n",
       "  </tbody>\n",
       "</table>\n",
       "</div>"
      ],
      "text/plain": [
       "  origin_country origin_consulate     country          city   latitude  \\\n",
       "0        ALBANIA           TIRANA     ALBANIA        TIRANA  41.330489   \n",
       "1        ALGERIA          ALGIERS     ALGERIA       ALGIERS  36.775361   \n",
       "2      ARGENTINA     BUENOS AIRES   ARGENTINA  BUENOS AIRES -34.607568   \n",
       "3      AUSTRALIA         CANBERRA   AUSTRALIA      CANBERRA -35.297591   \n",
       "4     AZERBAIJAN             BAKU  AZERBAIJAN          BAKU  40.375588   \n",
       "\n",
       "    longitude  \n",
       "0   19.825569  \n",
       "1    3.060188  \n",
       "2  -58.437089  \n",
       "3  149.101268  \n",
       "4   49.832801  "
      ]
     },
     "execution_count": 4,
     "metadata": {},
     "output_type": "execute_result"
    }
   ],
   "source": [
    "df.head(5)"
   ]
  }
 ],
 "metadata": {
  "kernelspec": {
   "display_name": "Python 3.10.4 ('schengen-project')",
   "language": "python",
   "name": "python3"
  },
  "language_info": {
   "codemirror_mode": {
    "name": "ipython",
    "version": 3
   },
   "file_extension": ".py",
   "mimetype": "text/x-python",
   "name": "python",
   "nbconvert_exporter": "python",
   "pygments_lexer": "ipython3",
   "version": "3.10.4"
  },
  "orig_nbformat": 4,
  "vscode": {
   "interpreter": {
    "hash": "c8f72dd39baacdd6885cf5f3225636817fcc3c3d88157812d11baa875d1cdecb"
   }
  }
 },
 "nbformat": 4,
 "nbformat_minor": 2
}
